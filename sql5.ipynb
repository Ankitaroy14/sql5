{
 "cells": [
  {
   "cell_type": "code",
   "execution_count": null,
   "id": "91e367f2",
   "metadata": {},
   "outputs": [],
   "source": [
    "1) Write an SQL query to print details of workers excluding first names, “Vipul” and\n",
    "“Satish” from Worker table.\n",
    "cursor.execute(\"select * from Worker where FIRST_NAME not in ('Vipul','Satish')\")\n",
    "\n",
    "2) Write an SQL query to print details of the Workers whose FIRST_NAME ends with\n",
    "‘h’ and contains six alphabets.\n",
    "\n",
    "cursor.execute(\"select * from Worker where First_Name like '_____h' \")\n",
    "\n",
    "3) Write a query to validate Email of Employee.\n",
    "\n",
    "cursor.execute(\"select email_employee from Worker where email_employee like '%gmail.com' \") \n",
    "               \n"
   ]
  }
 ],
 "metadata": {
  "kernelspec": {
   "display_name": "Python 3 (ipykernel)",
   "language": "python",
   "name": "python3"
  },
  "language_info": {
   "codemirror_mode": {
    "name": "ipython",
    "version": 3
   },
   "file_extension": ".py",
   "mimetype": "text/x-python",
   "name": "python",
   "nbconvert_exporter": "python",
   "pygments_lexer": "ipython3",
   "version": "3.9.7"
  }
 },
 "nbformat": 4,
 "nbformat_minor": 5
}
